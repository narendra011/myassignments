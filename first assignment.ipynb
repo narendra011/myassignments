{
 "cells": [
  {
   "cell_type": "code",
   "execution_count": 1,
   "id": "5c40d1b3",
   "metadata": {},
   "outputs": [
    {
     "name": "stdout",
     "output_type": "stream",
     "text": [
      "Hello Python\n"
     ]
    }
   ],
   "source": [
    "print(\"Hello Python\")"
   ]
  },
  {
   "cell_type": "code",
   "execution_count": 2,
   "id": "4a439473",
   "metadata": {},
   "outputs": [
    {
     "name": "stdout",
     "output_type": "stream",
     "text": [
      "addition of numbers is: 70 division is a/b: 2.5\n"
     ]
    }
   ],
   "source": [
    "a=50\n",
    "b=20\n",
    "print(\"addition of numbers is:\",a+b,\"division is a/b:\",a/b)"
   ]
  },
  {
   "cell_type": "code",
   "execution_count": 7,
   "id": "9d5ec6b1",
   "metadata": {},
   "outputs": [
    {
     "name": "stdout",
     "output_type": "stream",
     "text": [
      "enter the height of the traingle:\n",
      "45\n",
      "enter the base of the traingle:\n",
      "48\n",
      "Area of the Traingle is: 1080.0\n"
     ]
    }
   ],
   "source": [
    "height = float(input(\"enter the height of the traingle:\\n\"))\n",
    "base = float(input(\"enter the base of the traingle:\\n\"))\n",
    "print(\"Area of the Traingle is:\",0.5*(base*height))"
   ]
  },
  {
   "cell_type": "code",
   "execution_count": 10,
   "id": "005a411c",
   "metadata": {},
   "outputs": [
    {
     "name": "stdout",
     "output_type": "stream",
     "text": [
      "enter your first number: 45\n",
      "enter your second number: 58\n",
      "swapped numbers are: 58.0 45.0\n"
     ]
    }
   ],
   "source": [
    "a= float(input(\"enter your first number: \"))\n",
    "b= float(input(\"enter your second number: \"))\n",
    "temp=a\n",
    "a=b\n",
    "b=temp\n",
    "print(\"swapped numbers are:\", a,b)"
   ]
  },
  {
   "cell_type": "code",
   "execution_count": 13,
   "id": "73ec5a56",
   "metadata": {},
   "outputs": [
    {
     "ename": "IndentationError",
     "evalue": "unexpected indent (2134131957.py, line 3)",
     "output_type": "error",
     "traceback": [
      "\u001b[1;36m  Input \u001b[1;32mIn [13]\u001b[1;36m\u001b[0m\n\u001b[1;33m    print(a)\u001b[0m\n\u001b[1;37m    ^\u001b[0m\n\u001b[1;31mIndentationError\u001b[0m\u001b[1;31m:\u001b[0m unexpected indent\n"
     ]
    }
   ],
   "source": [
    "import random\n",
    "a=random.randint(1,5)\n",
    " print(a)"
   ]
  },
  {
   "cell_type": "code",
   "execution_count": null,
   "id": "7ba9a97d",
   "metadata": {},
   "outputs": [],
   "source": []
  },
  {
   "cell_type": "code",
   "execution_count": null,
   "id": "79f73db8",
   "metadata": {},
   "outputs": [],
   "source": []
  }
 ],
 "metadata": {
  "kernelspec": {
   "display_name": "Python 3 (ipykernel)",
   "language": "python",
   "name": "python3"
  },
  "language_info": {
   "codemirror_mode": {
    "name": "ipython",
    "version": 3
   },
   "file_extension": ".py",
   "mimetype": "text/x-python",
   "name": "python",
   "nbconvert_exporter": "python",
   "pygments_lexer": "ipython3",
   "version": "3.9.12"
  }
 },
 "nbformat": 4,
 "nbformat_minor": 5
}
